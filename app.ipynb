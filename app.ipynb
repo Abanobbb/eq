{
  "nbformat": 4,
  "nbformat_minor": 5,
  "metadata": {
    "kernelspec": {
      "display_name": "Python [conda env:PROM]",
      "language": "python",
      "name": "conda-env-PROM-py"
    },
    "language_info": {
      "codemirror_mode": {
        "name": "ipython",
        "version": 3
      },
      "file_extension": ".py",
      "mimetype": "text/x-python",
      "name": "python",
      "nbconvert_exporter": "python",
      "pygments_lexer": "ipython3",
      "version": "3.9.2"
    },
    "colab": {
      "name": "app.ipynb",
      "provenance": [],
      "collapsed_sections": []
    }
  },
  "cells": [
    {
      "cell_type": "code",
      "metadata": {
        "id": "spanish-round"
      },
      "source": [
        "import savReaderWriter as spss\n",
        "import numpy as np \n",
        "import pandas as pd\n",
        "import matplotlib.pyplot as plt \n",
        "import seaborn as sns\n",
        "import matplotlib.style as style\n",
        "style.use('seaborn')\n",
        "\n",
        "import ipywidgets as widgets\n",
        "from ipywidgets import interact\n",
        "from ipywidgets import interactive, Layout, HTML\n",
        "\n",
        "from imblearn.over_sampling import SMOTE\n",
        "from sklearn.ensemble import RandomForestClassifier\n",
        "from sklearn import preprocessing\n",
        "from sklearn.tree import DecisionTreeClassifier,_tree\n",
        "from sklearn.model_selection import train_test_split\n",
        "from sklearn.preprocessing import LabelEncoder\n",
        "from sklearn import model_selection\n",
        "from sklearn.model_selection import cross_val_score\n",
        "from sklearn.tree import export_graphviz\n",
        "from sklearn.metrics import confusion_matrix\n",
        "from sklearn.metrics import classification_report \n",
        "from sklearn.metrics import accuracy_score\n",
        "from sklearn.preprocessing import StandardScaler\n",
        "from sklearn.cluster import KMeans\n",
        "\n",
        "from imblearn.over_sampling import SMOTE\n",
        "import itertools\n",
        "\n",
        "import warnings\n",
        "warnings.filterwarnings(\"ignore\", category=DeprecationWarning)\n",
        "warnings.filterwarnings(\"ignore\")\n",
        "\n",
        "\n",
        "#import plotly.plotly as py\n",
        "#import chart_studio as py\n",
        "#from chart_studio.plotly import plot, iplot\n",
        "import plotly.express as px\n",
        "import plotly.graph_objects as go"
      ],
      "id": "spanish-round",
      "execution_count": null,
      "outputs": []
    },
    {
      "cell_type": "code",
      "metadata": {
        "id": "social-webster"
      },
      "source": [
        "#!pip install ipywidgets sklearn plotly\n",
        "#!pip install imblearn\n",
        "#!pip install google_trans_new"
      ],
      "id": "social-webster",
      "execution_count": null,
      "outputs": []
    },
    {
      "cell_type": "code",
      "metadata": {
        "id": "banned-theme"
      },
      "source": [
        ""
      ],
      "id": "banned-theme",
      "execution_count": null,
      "outputs": []
    },
    {
      "cell_type": "code",
      "metadata": {
        "id": "greek-medicaid"
      },
      "source": [
        "raw_data = spss.SavReader('p29_data.sav', returnHeader = True)\n",
        "raw_data_list = list(raw_data)\n",
        "df = pd.DataFrame(raw_data_list)\n",
        "with spss.SavReader('p29_data.sav', ioUtf8 = True) as reader:\n",
        "    df = pd.DataFrame(reader.all(), columns = [s.decode('CP1252') for s in reader.header])"
      ],
      "id": "greek-medicaid",
      "execution_count": null,
      "outputs": []
    },
    {
      "cell_type": "code",
      "metadata": {
        "id": "external-relief"
      },
      "source": [
        "prom= df[[ 'WEIGHT', 'GENDER', 'AGER','AGE','E1', 'E2', 'E3', 'E4', 'E5', 'E6']].copy()\n",
        "eq5d= df[[ 'WEIGHT', 'GENDER', 'AGE','AGER','E1', 'E2', 'E3', 'E4', 'E5', 'E6']].copy()\n",
        "eq5d.columns = ['WEIGHT', 'GENDER', 'AGE','AGE GROUP' ,'MOBILITY', 'SELF CARE', 'USUAL ACTIVITY', 'PAIN', 'ANXIETY', 'HEALTH SCALE']\n",
        "#eq5d.head(3)"
      ],
      "id": "external-relief",
      "execution_count": null,
      "outputs": []
    },
    {
      "cell_type": "code",
      "metadata": {
        "id": "informative-bottle"
      },
      "source": [
        "eq= eq5d[['MOBILITY', 'SELF CARE', 'USUAL ACTIVITY', 'PAIN', 'ANXIETY']].copy()"
      ],
      "id": "informative-bottle",
      "execution_count": null,
      "outputs": []
    },
    {
      "cell_type": "code",
      "metadata": {
        "id": "lightweight-shape"
      },
      "source": [
        "new = eq5d.copy()\n",
        "new['GENERAL HEALTH'] = eq.sum(axis=1)"
      ],
      "id": "lightweight-shape",
      "execution_count": null,
      "outputs": []
    },
    {
      "cell_type": "code",
      "metadata": {
        "id": "competent-stocks"
      },
      "source": [
        ""
      ],
      "id": "competent-stocks",
      "execution_count": null,
      "outputs": []
    },
    {
      "cell_type": "code",
      "metadata": {
        "id": "headed-charm",
        "outputId": "1b4fd43b-0f68-4538-f5f1-1616d9ec7d86"
      },
      "source": [
        "correlation = new.corr()\n",
        "plt.figure(figsize = (15,7))\n",
        "mask = np.zeros_like(correlation)\n",
        "mask[np.triu_indices_from(mask)] = True\n",
        "sns.heatmap(correlation, annot=True, mask=mask, linewidths=1)\n",
        "plt.title('Correlation',fontsize=30)\n",
        "plt.show()"
      ],
      "id": "headed-charm",
      "execution_count": null,
      "outputs": [
        {
          "output_type": "display_data",
          "data": {
            "image/png": "[encoded data removed]",
            "text/plain": [
              "<Figure size 1080x504 with 2 Axes>"
            ]
          },
          "metadata": {
            "tags": []
          }
        }
      ]
    },
    {
      "cell_type": "code",
      "metadata": {
        "colab": {
          "referenced_widgets": [
            "582d3a61c7ca43f6a80235a9257fdf37"
          ]
        },
        "id": "clean-seventh",
        "outputId": "4e66c042-ddf8-45c4-dfce-b138a7618347"
      },
      "source": [
        "\n",
        "w = widgets.Dropdown(options=new.columns.tolist(), value='ANXIETY')\n",
        "@interact(val=w)\n",
        "def correlation(val):\n",
        "     return eq5d.corrwith(new[val]).plot.bar(figsize=(20,10),\n",
        "                  title = 'Correlation with' ,\n",
        "                  fontsize = 15,\n",
        "                  grid = True)"
      ],
      "id": "clean-seventh",
      "execution_count": null,
      "outputs": [
        {
          "output_type": "display_data",
          "data": {
            "application/vnd.jupyter.widget-view+json": {
              "model_id": "582d3a61c7ca43f6a80235a9257fdf37",
              "version_major": 2,
              "version_minor": 0
            },
            "text/plain": [
              "interactive(children=(Dropdown(description='val', index=8, options=('WEIGHT', 'GENDER', 'AGE', 'AGE GROUP', 'M…"
            ]
          },
          "metadata": {
            "tags": []
          }
        }
      ]
    },
    {
      "cell_type": "code",
      "metadata": {
        "colab": {
          "referenced_widgets": [
            "682f20e8219d49d593b9fb2d705519c3"
          ]
        },
        "id": "interracial-monitor",
        "outputId": "79331307-b75d-4a40-c2df-d579efd785e8"
      },
      "source": [
        "w2 = widgets.Dropdown(options=eq5d.columns.tolist(), value='PAIN')\n",
        "@interact(Feature=w2)\n",
        "\n",
        "def pie(Feature):\n",
        "    X = pd.DataFrame(eq5d[Feature].value_counts())\n",
        "    c = X.plot.pie(y=Feature,figsize=(10, 10),autopct='%1.0f%%' )\n",
        "    c = plt.suptitle(Feature)\n",
        "    c = plt.legend(loc=\"upper center\", bbox_to_anchor=(1.2,0.71))\n",
        "    #c = plt.axes().set_ylabel('')\n",
        "    return c"
      ],
      "id": "interracial-monitor",
      "execution_count": null,
      "outputs": [
        {
          "output_type": "display_data",
          "data": {
            "application/vnd.jupyter.widget-view+json": {
              "model_id": "682f20e8219d49d593b9fb2d705519c3",
              "version_major": 2,
              "version_minor": 0
            },
            "text/plain": [
              "interactive(children=(Dropdown(description='Feature', index=7, options=('WEIGHT', 'GENDER', 'AGE', 'AGE GROUP'…"
            ]
          },
          "metadata": {
            "tags": []
          }
        }
      ]
    },
    {
      "cell_type": "code",
      "metadata": {
        "id": "micro-voltage",
        "outputId": "eb2d4c05-25e8-4080-87a3-3c3f4d51ee20"
      },
      "source": [
        "#samples =  eq5d[\"E6\"]\n",
        "ax = sns.histplot( eq5d[\"HEALTH SCALE\"] , color=\"skyblue\", label=' ',kde = True)\n",
        "plt.ylabel('Frequency')"
      ],
      "id": "micro-voltage",
      "execution_count": null,
      "outputs": [
        {
          "output_type": "execute_result",
          "data": {
            "text/plain": [
              "Text(0, 0.5, 'Frequency')"
            ]
          },
          "metadata": {
            "tags": []
          },
          "execution_count": 367
        },
        {
          "output_type": "display_data",
          "data": {
            "image/png": "[encoded data removed]",
            "text/plain": [
              "<Figure size 576x396 with 1 Axes>"
            ]
          },
          "metadata": {
            "tags": []
          }
        }
      ]
    },
    {
      "cell_type": "code",
      "metadata": {
        "id": "abandoned-hunter"
      },
      "source": [
        "eq5dd = df[['COUNTRY', 'ID', 'WEIGHT', 'GENDER', 'AGE', 'AGER','E1', 'E2', 'E3', 'E4', 'E5', 'E6']].copy()\n",
        "eq5dd.columns = ['COUNTRY', 'ID','WEIGHT', 'GENDER', 'AGE','AGE GROUP' ,'MOBILITY', 'SELF CARE', 'USUAL ACTIVITY', 'PAIN', 'ANXIETY', 'HEALTH SCALE']\n",
        "#eq5d.head(3)\n",
        "#eq5d.head(3)"
      ],
      "id": "abandoned-hunter",
      "execution_count": null,
      "outputs": []
    },
    {
      "cell_type": "code",
      "metadata": {
        "id": "exciting-crossing"
      },
      "source": [
        "eq5dd['GENERAL HEALTH'] = eq.sum(axis=1)"
      ],
      "id": "exciting-crossing",
      "execution_count": null,
      "outputs": []
    },
    {
      "cell_type": "code",
      "metadata": {
        "colab": {
          "referenced_widgets": [
            "c6cc06522b75478ea0d0828647823e19"
          ]
        },
        "id": "defined-brain",
        "outputId": "9908ac23-e44d-4a28-f8a2-8bad8b90f6c6"
      },
      "source": [
        "ind = widgets.FloatRangeSlider(\n",
        "    value=[60, 90],\n",
        "    min=0,\n",
        "    max=100.0,\n",
        "    step=0.1,\n",
        "    description='Utility Index(0-100)',\n",
        "    disabled=False,\n",
        "    continuous_update=False,\n",
        "    orientation='horizontal',\n",
        "    readout=True,\n",
        "    readout_format='.1f',\n",
        ")\n",
        "\n",
        "ind2= widgets.FloatRangeSlider(\n",
        "    value=[3, 25],\n",
        "    min=1,\n",
        "    max=25.0,\n",
        "    step=0.1,\n",
        "    description='Health Score(0-25):',\n",
        "    disabled=False,\n",
        "    continuous_update=False,\n",
        "    orientation='horizontal',\n",
        "    readout=True,\n",
        "    readout_format='.1f',\n",
        ")\n",
        "\n",
        "feauture = widgets.Dropdown(options=['MOBILITY', 'SELF CARE', 'USUAL ACTIVITY', 'PAIN', 'ANXIETY'], value='ANXIETY')\n",
        "group = widgets.Dropdown(options=['COUNTRY', 'AGE GROUP', 'GENDER'], value='COUNTRY')\n",
        "\n",
        "@interact(feauture=feauture,group=group,ind=ind,ind2 = ind2)\n",
        "def plot(feauture,group,ind,ind2):\n",
        "    m = eq5dd.loc[(eq5dd['HEALTH SCALE'] >= ind[0]) & (eq5dd['HEALTH SCALE'] <= ind[1]) & (eq5dd['GENERAL HEALTH'] >= ind2[0]) & (eq5dd['GENERAL HEALTH'] <= ind2[1])]\n",
        "    t = m.groupby([group,feauture])['ID'].count().sort_values(ascending=False).reset_index()\n",
        "    ax=sns.barplot(data=t, \\\n",
        "                     x=group, \\\n",
        "                     y='ID', \\\n",
        "                     hue=feauture, \\\n",
        "                     palette=sns.color_palette( n_colors=5))\n",
        "    ax.set( ylabel='counts')\n",
        "    plt.title(feauture)\n",
        "    plt.xticks(rotation=90)\n",
        "    plt.legend(loc=\"upper center\", bbox_to_anchor=(1.5, 1.15),)"
      ],
      "id": "defined-brain",
      "execution_count": null,
      "outputs": [
        {
          "output_type": "display_data",
          "data": {
            "application/vnd.jupyter.widget-view+json": {
              "model_id": "c6cc06522b75478ea0d0828647823e19",
              "version_major": 2,
              "version_minor": 0
            },
            "text/plain": [
              "interactive(children=(Dropdown(description='feauture', index=4, options=('MOBILITY', 'SELF CARE', 'USUAL ACTIV…"
            ]
          },
          "metadata": {
            "tags": []
          }
        }
      ]
    },
    {
      "cell_type": "code",
      "metadata": {
        "id": "accepted-silence"
      },
      "source": [
        ""
      ],
      "id": "accepted-silence",
      "execution_count": null,
      "outputs": []
    },
    {
      "cell_type": "code",
      "metadata": {
        "colab": {
          "referenced_widgets": [
            "19b46a97473c4bd5a4fc1b3ff4423306"
          ]
        },
        "id": "polish-ranch",
        "outputId": "9afbdc17-02ca-4983-9898-3d0238ba57d8"
      },
      "source": [
        "feauture_1 = widgets.Dropdown(options=['MOBILITY', 'SELF CARE','USUAL ACTIVITY', 'PAIN', 'ANXIETY'], value='ANXIETY')\n",
        "feauture_2 = widgets.Dropdown(options=['MOBILITY', 'SELF CARE','USUAL ACTIVITY', 'PAIN', 'ANXIETY'], value='MOBILITY')\n",
        "    \n",
        "@interact(feauture_1=feauture_1,feauture_2=feauture_2)\n",
        "def cross(feauture_1,feauture_2):\n",
        "    c = pd.crosstab(eq5d[feauture_1], eq5d[feauture_2])\n",
        "    c.loc['Total',:]= c.sum(axis=0)\n",
        "    c.loc[:,'Total'] = c.sum(axis=1)\n",
        "    return c"
      ],
      "id": "polish-ranch",
      "execution_count": null,
      "outputs": [
        {
          "output_type": "display_data",
          "data": {
            "application/vnd.jupyter.widget-view+json": {
              "model_id": "19b46a97473c4bd5a4fc1b3ff4423306",
              "version_major": 2,
              "version_minor": 0
            },
            "text/plain": [
              "interactive(children=(Dropdown(description='feauture_1', index=4, options=('MOBILITY', 'SELF CARE', 'USUAL ACT…"
            ]
          },
          "metadata": {
            "tags": []
          }
        }
      ]
    },
    {
      "cell_type": "code",
      "metadata": {
        "id": "fixed-raising"
      },
      "source": [
        ""
      ],
      "id": "fixed-raising",
      "execution_count": null,
      "outputs": []
    },
    {
      "cell_type": "code",
      "metadata": {
        "colab": {
          "referenced_widgets": [
            "f80419aa368e4583a10853338620c6b1"
          ]
        },
        "id": "proof-suspension",
        "outputId": "bcc629a1-397d-4ea4-9348-9951be12b49e"
      },
      "source": [
        "feauture = widgets.Dropdown(options=['MOBILITY', 'SELF CARE','USUAL ACTIVITY', 'PAIN', 'ANXIETY'], value='MOBILITY')\n",
        "\n",
        "@interact(feauture=feauture)\n",
        "def joint(feauture):\n",
        "    return sns.jointplot(x=eq5d['HEALTH SCALE'], y=eq5d[feauture], kind='kde',color = 'red')\n"
      ],
      "id": "proof-suspension",
      "execution_count": null,
      "outputs": [
        {
          "output_type": "display_data",
          "data": {
            "application/vnd.jupyter.widget-view+json": {
              "model_id": "f80419aa368e4583a10853338620c6b1",
              "version_major": 2,
              "version_minor": 0
            },
            "text/plain": [
              "interactive(children=(Dropdown(description='feauture', options=('MOBILITY', 'SELF CARE', 'USUAL ACTIVITY', 'PA…"
            ]
          },
          "metadata": {
            "tags": []
          }
        }
      ]
    },
    {
      "cell_type": "code",
      "metadata": {
        "id": "seven-dating"
      },
      "source": [
        ""
      ],
      "id": "seven-dating",
      "execution_count": null,
      "outputs": []
    },
    {
      "cell_type": "code",
      "metadata": {
        "id": "pleased-wilson"
      },
      "source": [
        ""
      ],
      "id": "pleased-wilson",
      "execution_count": null,
      "outputs": []
    },
    {
      "cell_type": "code",
      "metadata": {
        "colab": {
          "referenced_widgets": [
            "5a828091d6774fada983ac7ebe005625"
          ]
        },
        "id": "another-lotus",
        "outputId": "72853510-0ee8-4fc5-b3a6-aa66266b27ea"
      },
      "source": [
        "X = widgets.Dropdown(\n",
        "    value='HEALTH SCALE', description='X',\n",
        "    options=eq5d.columns)\n",
        "\n",
        "Y = widgets.Dropdown(\n",
        "    options=eq5d.columns.tolist(), description='Y',\n",
        "    value='MOBILITY')\n",
        "\n",
        "color= widgets.Dropdown(\n",
        "    options=eq5d.columns.tolist(),description='COLOR BY',\n",
        "    value='ANXIETY')\n",
        "\n",
        "\n",
        "@interact(X=X,Y=Y,color = color)\n",
        "def show(X,Y,color):\n",
        "    fig = px.scatter(new, x='HEALTH SCALE', y=Y, color=color, marginal_y=\"violin\",\n",
        "               marginal_x=\"box\", trendline=\"ols\", template=\"simple_white\")\n",
        "    fig.show()"
      ],
      "id": "another-lotus",
      "execution_count": null,
      "outputs": [
        {
          "output_type": "display_data",
          "data": {
            "application/vnd.jupyter.widget-view+json": {
              "model_id": "5a828091d6774fada983ac7ebe005625",
              "version_major": 2,
              "version_minor": 0
            },
            "text/plain": [
              "interactive(children=(Dropdown(description='X', index=9, options=('WEIGHT', 'GENDER', 'AGE', 'AGE GROUP', 'MOB…"
            ]
          },
          "metadata": {
            "tags": []
          }
        }
      ]
    },
    {
      "cell_type": "code",
      "metadata": {
        "id": "hourly-withdrawal"
      },
      "source": [
        ""
      ],
      "id": "hourly-withdrawal",
      "execution_count": null,
      "outputs": []
    },
    {
      "cell_type": "code",
      "metadata": {
        "colab": {
          "referenced_widgets": [
            "06c73272bf9947eb8646a4ebcc302872"
          ]
        },
        "id": "vietnamese-memorial",
        "outputId": "67e4f005-7cee-4034-823b-cff191131aee"
      },
      "source": [
        "\n",
        "X = widgets.Dropdown(\n",
        "    value='HEALTH SCALE', description='X',\n",
        "    options=eq5d.columns)\n",
        "\n",
        "Y = widgets.Dropdown(\n",
        "    options=eq5d.columns.tolist(), description='Y',\n",
        "    value='USUAL ACTIVITY')\n",
        "\n",
        "Z = widgets.Dropdown(\n",
        "    options=eq5d.columns.tolist(), description='Z',\n",
        "    value='MOBILITY')\n",
        "\n",
        "color= widgets.Dropdown(\n",
        "    options=eq5d.columns.tolist(),description='COLOR BY',\n",
        "    value='ANXIETY')\n",
        "\n",
        "\n",
        "@interact(X=X,Y=Y,Z=Z,color = color)\n",
        "def show(X,Y,Z,color):\n",
        "    fig = px.scatter_3d(new, x = X, y = Y, z = Z, color = color)\n",
        "    \n",
        "    fig.show()"
      ],
      "id": "vietnamese-memorial",
      "execution_count": null,
      "outputs": [
        {
          "output_type": "display_data",
          "data": {
            "application/vnd.jupyter.widget-view+json": {
              "model_id": "06c73272bf9947eb8646a4ebcc302872",
              "version_major": 2,
              "version_minor": 0
            },
            "text/plain": [
              "interactive(children=(Dropdown(description='X', index=9, options=('WEIGHT', 'GENDER', 'AGE', 'AGE GROUP', 'MOB…"
            ]
          },
          "metadata": {
            "tags": []
          }
        }
      ]
    },
    {
      "cell_type": "code",
      "metadata": {
        "colab": {
          "referenced_widgets": [
            "733edeb5feb74349a4f33ae2a38195c2"
          ]
        },
        "id": "sought-reading",
        "outputId": "2e53cdcb-5f18-4743-9f2b-471bd3072a37"
      },
      "source": [
        "\n",
        "X = widgets.Dropdown(\n",
        "    value='HEALTH SCALE', description='X',\n",
        "    options=eq5d.columns)\n",
        "\n",
        "Y = widgets.Dropdown(\n",
        "    options=eq5d.columns.tolist(), description='Y',\n",
        "    value='USUAL ACTIVITY')\n",
        "\n",
        "Z = widgets.Dropdown(\n",
        "    options=eq5d.columns.tolist(), description='Z',\n",
        "    value='MOBILITY')\n",
        "\n",
        "color= widgets.Dropdown(\n",
        "    options=eq5d.columns.tolist(),description='COLOR BY',\n",
        "    value='ANXIETY')\n",
        "\n",
        "\n",
        "@interact(X=X,Y=Y,Z=Z,color = color)\n",
        "def show(X,Y,Z,color):\n",
        "    fig = px.scatter_3d(new, x = X, y = Y, z = Z, color = color,size='HEALTH SCALE')\n",
        "    fig.update_layout(scene_zaxis_type=\"log\")\n",
        "    fig.show()"
      ],
      "id": "sought-reading",
      "execution_count": null,
      "outputs": [
        {
          "output_type": "display_data",
          "data": {
            "application/vnd.jupyter.widget-view+json": {
              "model_id": "733edeb5feb74349a4f33ae2a38195c2",
              "version_major": 2,
              "version_minor": 0
            },
            "text/plain": [
              "interactive(children=(Dropdown(description='X', index=9, options=('WEIGHT', 'GENDER', 'AGE', 'AGE GROUP', 'MOB…"
            ]
          },
          "metadata": {
            "tags": []
          }
        }
      ]
    },
    {
      "cell_type": "code",
      "metadata": {
        "colab": {
          "referenced_widgets": [
            "38c0401d5f0c479282d8c6e6ffc8c283"
          ]
        },
        "id": "rubber-large",
        "outputId": "45a4ae4d-4f33-4cf0-facc-dea7e079059d"
      },
      "source": [
        "x = widgets.Dropdown(\n",
        "    value='AGE GROUP', description='X',\n",
        "    options=eq5d.columns)\n",
        "\n",
        "y = widgets.Dropdown(\n",
        "    options=eq5d.columns.tolist(), description='Y',\n",
        "    value='MOBILITY')\n",
        "\n",
        "z= widgets.Dropdown(\n",
        "    options=eq5d.columns.tolist(),description='COLOR BY',\n",
        "    value='ANXIETY')\n",
        "\n",
        "\n",
        "def change(change):\n",
        "    with fig.batch_update():\n",
        "        f2.data[0].x = eq5d[x.value].values\n",
        "        f2.data[0].y = eq5d[y.value].values\n",
        "        f2.data[0].z = eq5d[z.value].values\n",
        "\n",
        "\n",
        "t1 =  go.Contour(\n",
        "            y=eq5d['MOBILITY'],\n",
        "            z=eq5d['ANXIETY'], # horizontal axis\n",
        "            x=eq5d['AGE GROUP'],\n",
        "            connectgaps=True,\n",
        "            contours=dict(\n",
        "                coloring ='heatmap',\n",
        "                showlabels = False, # show labels on contours\n",
        "                labelfont = dict( # label font properties\n",
        "                    size = 12,\n",
        "                    color = 'white',\n",
        "                )\n",
        "        ))\n",
        "\n",
        "data=[t1]\n",
        "layout = go.Layout(title='Contor')\n",
        "\n",
        "figure = go.Figure(data=data, layout=layout)\n",
        "\n",
        "f2 = go.FigureWidget(figure)\n",
        "##new\n",
        "details = HTML()\n",
        "scatter = f2.data[0]\n",
        "def hover_fn(trace, points,state):\n",
        "    ind = points.point_inds[0]\n",
        "    details.value = eq5d.iloc[ind].to_frame().to_html()\n",
        "    #m = eq5d.iloc[ind].MOBILITY\n",
        "    #s = eq5d.iloc[ind]['SELF CARE']\n",
        "    #u = eq5d.iloc[ind]['USUAL ACTIVITY']\n",
        "    #p = eq5d.iloc[ind].PAIN\n",
        "    #d = eq5d.iloc[ind].ANXIETY\n",
        "    #c = Quest(m,s,u,p,d)\n",
        "    \n",
        "scatter.on_hover(hover_fn) \n",
        "\n",
        "\n",
        "#end\n",
        "x.observe(change, names=\"value\")\n",
        "y.observe(change, names=\"value\")\n",
        "z.observe(change, names=\"value\")\n",
        "\n",
        "\n",
        "\n",
        "widgets.VBox([x,y,z,f2,details])\n"
      ],
      "id": "rubber-large",
      "execution_count": null,
      "outputs": [
        {
          "output_type": "display_data",
          "data": {
            "application/vnd.jupyter.widget-view+json": {
              "model_id": "38c0401d5f0c479282d8c6e6ffc8c283",
              "version_major": 2,
              "version_minor": 0
            },
            "text/plain": [
              "VBox(children=(Dropdown(description='X', index=3, options=('WEIGHT', 'GENDER', 'AGE', 'AGE GROUP', 'MOBILITY',…"
            ]
          },
          "metadata": {
            "tags": []
          }
        }
      ]
    },
    {
      "cell_type": "code",
      "metadata": {
        "id": "ecological-lyric"
      },
      "source": [
        "#cluster = AgglomerativeClustering(n_clusters=4, affinity='euclidean', linkage='ward')\n",
        "#cluster.fit_predict(x)"
      ],
      "id": "ecological-lyric",
      "execution_count": null,
      "outputs": []
    },
    {
      "cell_type": "code",
      "metadata": {
        "id": "expressed-school"
      },
      "source": [
        "#plt.figure(figsize=(10, 7))\n",
        "#plt.scatter(x[:,0], x[:,1], c=cluster.labels_, cmap='rainbow')"
      ],
      "id": "expressed-school",
      "execution_count": null,
      "outputs": []
    },
    {
      "cell_type": "code",
      "metadata": {
        "id": "artificial-ministry"
      },
      "source": [
        "#!pip install statsmodels\n",
        "#!pip install python-igraph"
      ],
      "id": "artificial-ministry",
      "execution_count": null,
      "outputs": []
    },
    {
      "cell_type": "code",
      "metadata": {
        "id": "broken-square"
      },
      "source": [
        ""
      ],
      "id": "broken-square",
      "execution_count": null,
      "outputs": []
    },
    {
      "cell_type": "code",
      "metadata": {
        "id": "intimate-poetry"
      },
      "source": [
        "#new or state one [mobility]\n",
        "#yes > break\n",
        "mobility = ['Do u have a problem walking about today?',\n",
        "              'Is it a slight problem ? ',\n",
        "            'Hmmm, Moderate problem ? ',\n",
        "            'Are you still able to walk about? ']\n",
        "mobility_sc = [2,3,4,5]\n",
        "\n",
        "#new or state one [selfCare]\n",
        "#yes > break\n",
        "selfCare = ['Do u have any problems with self care (e.g washing or dressing yourself) ? ',\n",
        "              'Is it a slight problems ?',\n",
        "            'Moderate problems? ',\n",
        "            'Okay, Are you still able to wash or dress yourself?']\n",
        "selfCare_sc = [2,3,4,5]\n",
        "\n",
        "#new or state one [activity]\n",
        "#yes > break\n",
        "activity = ['Do u have problems performing usual activities (e.g. work, study, housework, family or leisure activities)? ',\n",
        "              'Is it a slight problem ?',\n",
        "            'Moderate problems? ',\n",
        "            'Are you still able to perform any of your usual activities?']\n",
        "activity_sc = [2,3,4,5]\n",
        "\n",
        "#new or state one [pain]\n",
        "#yes > break\n",
        "pain = ['Do u have any pain or discomfort ?',\n",
        "          'Is it a slight pain or discomfort ?',\n",
        "        'Okay, On a scale of 1-3 (1 being the lowest and 3 being the highest) how to rate your pain or discomfort level?']\n",
        "pain_sc = [2,3,4,5]\n",
        "\n",
        "\n",
        "#new or state one[depression]\n",
        "#yes > break\n",
        "anxiety = ['Are u feeling anxious or depressed ?',\n",
        "             'On a scale of 1-4 (1 being the lowest and 4 being the highest) how to rate your anxiety or depression level?']\n",
        "anxiety_sc = [2,3,4,5]"
      ],
      "id": "intimate-poetry",
      "execution_count": null,
      "outputs": []
    },
    {
      "cell_type": "code",
      "metadata": {
        "id": "incorporate-subdivision"
      },
      "source": [
        "# state 3 [mobility]\n",
        "#yes > break\n",
        "mobility_3 = ['Do u feel better or worse or the same at walking about today?',\n",
        "              'Do u have any problem walking about?' ,\n",
        "            'Are you still able to walk about? ']\n",
        "\n",
        "#state 3 [selfCare]\n",
        "#yes > break\n",
        "selfCare_3 = ['Are you having less problems with self care (e.g washing or dressing yourself) than yesterday?',\n",
        "              'Do u have slight problems regarding it  ?',\n",
        "            'Okay, Are you still able to wash or dress yourself?',\n",
        "            'Do u have moderate or severe problems regarding it  ?']\n",
        "\n",
        "#state 3 [activity]\n",
        "#yes > break\n",
        "activity_3 = ['Are you feeling doing usual activities (e.g. work, study..) is easier or harder or the same as yesterday?',\n",
        "              'Do u have slight problems doing usual activities ?',\n",
        "            'Are you still able to perform any of your usual activities?',]\n",
        "\n",
        "\n",
        "#state 3 [pain]\n",
        "#yes > break\n",
        "pain_3 = ['Regarding pain, Are you feeling better than yesterday? ',\n",
        "          'Do u have any pain or discomfort ?',\n",
        "        'Okay, On a scale of 1-3 (1 being the lowest and 3 being the highest) how to rate your pain or discomfort level?']\n",
        "\n",
        "#state 3 [depression]\n",
        "#yes > break\n",
        "anxiety_3 = [ 'On a scale of 1-5 (1 being the lowest and 5 being the highest) how to rate your anxiety or depression level today?']"
      ],
      "id": "incorporate-subdivision",
      "execution_count": null,
      "outputs": []
    },
    {
      "cell_type": "code",
      "metadata": {
        "id": "touched-savannah"
      },
      "source": [
        "# state 4 [mobility]\n",
        "#yes > break\n",
        "mobility_4 = ['Do u feel better or worse or the same in walking about today?',\n",
        "              'Good, Do u still have problems in walking about? ',\n",
        "              'Slight or moderate problems ?']\n",
        "\n",
        "#state 4 [selfCare]\n",
        "#yes > break\n",
        "selfCare_4 = ['Do u find it easier or harder or the same to wash or dress yourself ?',\n",
        "              'Good, Do u still have any problems  wash or dress yourself? ',\n",
        "              'Slight or moderate problems?']\n",
        "\n",
        "\n",
        "#state 4 [activity]\n",
        "#yes > break\n",
        "activity_4 = ['Do u find it easier or harder or the same to do your usual activities today (e.g. work, study..)?',\n",
        "              'Great, Do u still have any problems doing your usual activities?',\n",
        "              'Slight or moderate problems?']\n",
        "\n",
        "#state 4 [pain]\n",
        "#yes > break\n",
        "pain_4 = ['Regarding pain, Are you feeling better than yesterday? ',\n",
        "          'Great, you do still have some pain or discomfort, right?',\n",
        "          'Slight or moderate pain?',\n",
        "        'same pain or worse?' ]\n",
        "\n",
        "#state 4 [depression]\n",
        "#yes > break\n",
        "anxiety_4 = [ 'On a scale of 1-5 (1 being the lowest and 5 being the highest) how to rate your anxiety or depression level today?']"
      ],
      "id": "touched-savannah",
      "execution_count": null,
      "outputs": []
    },
    {
      "cell_type": "code",
      "metadata": {
        "id": "historical-terrorist"
      },
      "source": [
        "# state 5 [mobility]\n",
        "#yes > break\n",
        "mobility_5 = ['Are you able to walk about a little today?',\n",
        "              'Good, Do u still have problems in walking about? ',\n",
        "              'Okay, On a scale of 1-3 (1 being the lowest and 3 being the highest) how to rate your problems in walking about?']\n",
        "\n",
        "#state 5 [selfCare]\n",
        "#yes > break\n",
        "selfCare_5 = [ 'Are you able to wash or dress yourself today? ',\n",
        "              'Great, On a scale of 1-4 (1 being the lowest and 4 being the highest) how do u find it hard to wash or dress yourself?']\n",
        "\n",
        "\n",
        "#state 5 [activity]\n",
        "#yes > break\n",
        "activity_5 = ['Have you done any usual activities today or able to (e.g. work, study..)?',\n",
        "              'Great, On a scale of 1-4 (1 being the lowest and 4 being the highest) how do u find it hard to do your usual activities?']\n",
        "\n",
        "#state 5 [pain]\n",
        "#yes > break\n",
        "pain_5 = ['Regarding pain, Are you feeling better than yesterday? ',\n",
        "          'Great, you do still have some pain or discomfort, right?',\n",
        "        'Okay, On a scale of 1-3 (1 being the lowest and 3 being the highest) how to rate your pain or discomfort level?']\n",
        "\n",
        "#state 5 [depression]\n",
        "#yes > break\n",
        "anxiety_5 = [ 'On a scale of 1-5 (1 being the lowest and 5 being the highest) how to rate your anxiety or depression level today?']\n",
        "anxiety_sc = [2,3,4,5]"
      ],
      "id": "historical-terrorist",
      "execution_count": null,
      "outputs": []
    },
    {
      "cell_type": "code",
      "metadata": {
        "id": "usual-ground"
      },
      "source": [
        "\n",
        "def Quest(Mobility,SelfCare,Activity,Pain,Anxiety):\n",
        "\n",
        "    \n",
        "    if Mobility == 0 or Mobility == 1 or Mobility == 2 :           \n",
        "            mob_questions = mobility\n",
        "    if Mobility == 3 :\n",
        "            mob_questions = mobility_3    \n",
        "    if Mobility == 4 :\n",
        "            mob_questions = mobility_4           \n",
        "    if Mobility == 5 :\n",
        "            mob_questions = mobility_5\n",
        "                     \n",
        "            \n",
        "    if SelfCare == 0 or SelfCare == 1 or SelfCare == 2 :           \n",
        "            sf_questions = selfCare\n",
        "    if SelfCare == 3 :\n",
        "            sf_questions = selfCare_3 \n",
        "    if SelfCare == 4 :\n",
        "            sf_questions = selfCare_4          \n",
        "    if SelfCare == 5 :\n",
        "            sf_questions = selfCare_4     \n",
        "            \n",
        "    if Activity == 0 or Activity == 1 or Activity == 2 :           \n",
        "            act_questions = activity\n",
        "    if Activity == 3 :\n",
        "            act_questions = activity_3\n",
        "    if Activity == 4 :\n",
        "            act_questions = activity_4          \n",
        "    if Activity == 5 :\n",
        "            act_questions = activity_5      \n",
        "            \n",
        "            \n",
        "            \n",
        "    if Pain == 0 or Pain == 1 or Pain == 2 :           \n",
        "            pn_questions = pain\n",
        "    if Pain == 3 :\n",
        "            pn_questions = pain_3\n",
        "    if Pain == 4 :\n",
        "            pn_questions = pain_4        \n",
        "    if Pain == 5 :\n",
        "            pn_questions = pain_5  \n",
        "            \n",
        "    if Anxiety == 0 or Anxiety == 1 or Anxiety == 2 :           \n",
        "            ad_questions = anxiety\n",
        "    if Anxiety== 3 :\n",
        "            ad_questions = anxiety_3\n",
        "    if Anxiety == 4 :\n",
        "            ad_questions = anxiety_4          \n",
        "    if Anxiety == 5 :\n",
        "            ad_questions = anxiety_5    \n",
        "            \n",
        "\n",
        "\n",
        "    return mob_questions, sf_questions, act_questions, pn_questions, ad_questions\n",
        "    \n"
      ],
      "id": "usual-ground",
      "execution_count": null,
      "outputs": []
    },
    {
      "cell_type": "code",
      "metadata": {
        "id": "continued-immunology"
      },
      "source": [
        "from sklearn.decomposition import PCA\n",
        "\n",
        "variance = 3\n",
        "pca = PCA(variance)\n",
        "pca.fit(new)\n",
        "x = pca.transform(new)\n",
        "WCSS = []\n",
        "for i in range(1,11):\n",
        "    model = KMeans(n_clusters = i,init = 'k-means++')\n",
        "    model.fit(x)\n",
        "    WCSS.append(model.inertia_)\n",
        "#fig = plt.figure(figsize = (7,7))\n",
        "#plt.plot(range(1,11),WCSS, linewidth=4, markersize=12,marker='o',color = 'red')\n",
        "#plt.xticks(np.arange(11))\n",
        "#plt.xlabel(\"Number of clusters\")\n",
        "#plt.ylabel(\"WCSS\")\n",
        "#plt.show()"
      ],
      "id": "continued-immunology",
      "execution_count": null,
      "outputs": []
    },
    {
      "cell_type": "code",
      "metadata": {
        "colab": {
          "referenced_widgets": [
            "20c80351593d44e789009a59adcef5fd"
          ]
        },
        "id": "moved-termination",
        "outputId": "7a1efd7b-77f1-4e92-b218-bd1fa9b779fd"
      },
      "source": [
        "\n",
        "model = KMeans(n_clusters = 5, init = \"k-means++\", max_iter = 300, n_init = 10, random_state = 0)\n",
        "y_clusters = model.fit_predict(x)\n",
        "\n",
        "# 3d scatterplot using plotly\n",
        "Scene = dict(xaxis = dict(title  = 'PCA 1'),yaxis = dict(title  = 'PCA 2'),zaxis = dict(title  = 'PCA 3 '))\n",
        "\n",
        "# model.labels_ is nothing but the predicted clusters i.e y_clusters\n",
        "labels = model.labels_\n",
        "trace = go.Scatter3d(x=x[:, 0], y=x[:, 1], z=x[:, 2], mode='markers',marker=dict(color = labels, size= 10, line=dict(color= 'black',width = 10)))\n",
        "layout = go.Layout(margin=dict(l=0,r=0),scene = Scene,height = 800,width = 800)\n",
        "data = [trace]\n",
        "clust = go.Figure(data = data, layout = layout)\n",
        "\n",
        "\n",
        "clus = go.FigureWidget(clust)\n",
        "\n",
        "details = HTML()\n",
        "details2 = HTML()\n",
        "\n",
        "scatt = clus.data[0]\n",
        "\n",
        "def hover_fn(trace, points,state):\n",
        "    ind = points.point_inds[0]\n",
        "    details.value = new.iloc[ind].to_frame().to_html()\n",
        "    m = new.iloc[ind].MOBILITY\n",
        "    s = new.iloc[ind]['SELF CARE']\n",
        "    u = new.iloc[ind]['USUAL ACTIVITY']\n",
        "    p = new.iloc[ind].PAIN\n",
        "    d = new.iloc[ind].ANXIETY\n",
        "    c = Quest(m,s,u,p,d)\n",
        "    details2.value =pd.DataFrame(c).to_html()\n",
        "    \n",
        "scatt.on_hover(hover_fn) \n",
        "\n",
        "#clus.show()\n",
        "wid = widgets.HBox([details,details2])\n",
        "widgets.VBox([clus,wid])"
      ],
      "id": "moved-termination",
      "execution_count": null,
      "outputs": [
        {
          "output_type": "display_data",
          "data": {
            "application/vnd.jupyter.widget-view+json": {
              "model_id": "20c80351593d44e789009a59adcef5fd",
              "version_major": 2,
              "version_minor": 0
            },
            "text/plain": [
              "VBox(children=(FigureWidget({\n",
              "    'data': [{'marker': {'color': array([0, 0, 0, ..., 0, 4, 3]), 'line': {'colo…"
            ]
          },
          "metadata": {
            "tags": []
          }
        }
      ]
    },
    {
      "cell_type": "code",
      "metadata": {
        "id": "ecological-portuguese"
      },
      "source": [
        ""
      ],
      "id": "ecological-portuguese",
      "execution_count": null,
      "outputs": []
    },
    {
      "cell_type": "code",
      "metadata": {
        "id": "favorite-transsexual"
      },
      "source": [
        "x = widgets.Dropdown(\n",
        "    value='AGE GROUP', description='X',\n",
        "    options=eq5d.columns)\n",
        "\n",
        "y = widgets.Dropdown(\n",
        "    options=eq5d.columns.tolist(), description='Y',\n",
        "    value='MOBILITY')\n",
        "\n",
        "z= widgets.Dropdown(\n",
        "    options=eq5d.columns.tolist(),description='COLOR BY',\n",
        "    value='ANXIETY')\n",
        "\n",
        "\n",
        "def change(change):\n",
        "    with fig.batch_update():\n",
        "        f2.data[0].x = eq5d[x.value].values\n",
        "        f2.data[0].y = eq5d[y.value].values\n",
        "        f2.data[0].z = eq5d[z.value].values\n",
        "\n",
        "\n",
        "t1 =  go.Contour(\n",
        "            y=eq5d['MOBILITY'],\n",
        "            z=eq5d['ANXIETY'], # horizontal axis\n",
        "            x=eq5d['AGE GROUP'],\n",
        "            connectgaps=True,\n",
        "            contours=dict(\n",
        "                coloring ='heatmap',\n",
        "                showlabels = False, # show labels on contours\n",
        "                labelfont = dict( # label font properties\n",
        "                    size = 12,\n",
        "                    color = 'white',\n",
        "                )\n",
        "        ))\n",
        "\n",
        "data=[t1]\n",
        "layout = go.Layout(title='Contor')\n",
        "\n",
        "figure = go.Figure(data=data, layout=layout)\n",
        "\n",
        "f2 = go.FigureWidget(figure)\n",
        "##new\n",
        "details = HTML()\n",
        "scatter = f2.data[0]\n",
        "def hover_fn(trace, points,state):\n",
        "    ind = points.point_inds[0]\n",
        "    details.value = eq5d.iloc[ind].to_frame().to_html()\n",
        "    #m = eq5d.iloc[ind].MOBILITY\n",
        "    #s = eq5d.iloc[ind]['SELF CARE']\n",
        "    #u = eq5d.iloc[ind]['USUAL ACTIVITY']\n",
        "    #p = eq5d.iloc[ind].PAIN\n",
        "    #d = eq5d.iloc[ind].ANXIETY\n",
        "    #c = Quest(m,s,u,p,d)\n",
        "    \n",
        "scatter.on_hover(hover_fn) \n",
        "\n",
        "\n",
        "#end\n",
        "x.observe(change, names=\"value\")\n",
        "y.observe(change, names=\"value\")\n",
        "z.observe(change, names=\"value\")\n",
        "\n",
        "\n",
        "\n",
        "widgets.VBox([x,y,z,f2,details])\n"
      ],
      "id": "favorite-transsexual",
      "execution_count": null,
      "outputs": []
    },
    {
      "cell_type": "code",
      "metadata": {
        "id": "secure-doctor"
      },
      "source": [
        ""
      ],
      "id": "secure-doctor",
      "execution_count": null,
      "outputs": []
    },
    {
      "cell_type": "code",
      "metadata": {
        "id": "insured-gardening"
      },
      "source": [
        ""
      ],
      "id": "insured-gardening",
      "execution_count": null,
      "outputs": []
    },
    {
      "cell_type": "code",
      "metadata": {
        "id": "encouraging-yemen"
      },
      "source": [
        ""
      ],
      "id": "encouraging-yemen",
      "execution_count": null,
      "outputs": []
    },
    {
      "cell_type": "code",
      "metadata": {
        "id": "operating-donor"
      },
      "source": [
        ""
      ],
      "id": "operating-donor",
      "execution_count": null,
      "outputs": []
    },
    {
      "cell_type": "code",
      "metadata": {
        "colab": {
          "referenced_widgets": [
            "d0b62923f87b4db38b0235f1143695e5"
          ]
        },
        "id": "informational-jacket",
        "outputId": "d5c0c679-f409-403d-fc13-1d7f87aac0d1"
      },
      "source": [
        "\n",
        "from google_trans_new import google_translator  \n",
        "translator = google_translator()\n",
        "\n",
        "def convert(lang,questions):\n",
        "    new_questions = []\n",
        "    for i in questions:\n",
        "        n = translator.translate(i,lang_tgt=lang)\n",
        "        new_questions.append(n)\n",
        "    return new_questions\n",
        "\n",
        "\n",
        "\n",
        "\n",
        "language = widgets.Dropdown(style= {'button_color':'red'},grid_area='sidebar',options=['af', 'sq', 'am', 'ar', 'hy', 'az', 'eu', 'be', 'bn', 'bs', 'bg', 'ca', 'ceb', 'ny', 'zh-cn', 'zh-tw', 'co', 'hr', 'cs', 'da', 'nl', 'en', 'eo', 'et', 'tl', 'fi', 'fr', 'fy', 'gl', 'ka', 'de', 'el', 'gu', 'ht', 'ha', 'haw', 'iw', 'he', 'hi', 'hmn', 'hu', 'is', 'ig', 'id', 'ga', 'it', 'ja', 'jw', 'kn', 'kk', 'km', 'ko', 'ku', 'ky', 'lo', 'la', 'lv', 'lt', 'lb', 'mk', 'mg', 'ms', 'ml', 'mt', 'mi', 'mr', 'mn', 'my', 'ne', 'no', 'or', 'ps', 'fa', 'pl', 'pt', 'pa', 'ro', 'ru', 'sm', 'gd', 'sr', 'st', 'sn', 'sd', 'si', 'sk', 'sl', 'so', 'es', 'su', 'sw', 'sv', 'tg', 'ta', 'te', 'th', 'tr', 'uk', 'ur', 'ug', 'uz', 'vi', 'cy', 'xh', 'yi', 'yo', 'zu'], value='en')\n",
        "#language.style.handle_color = 'lightgreen'\n",
        "#layout=Layout(width='50%', height='80px')\n",
        "Mobility = widgets.BoundedIntText(value=3, min=1, max=5, step=1, description='Mobility',disabled=False)\n",
        "SelfCare = widgets.BoundedIntText(value=5,  min=1, max=5, step=1, description='SelfCare ',disabled=False)\n",
        "Activity = widgets.BoundedIntText(value=2, min=1, max=5, step=1, description='Activity',disabled=False)\n",
        "Pain = widgets.BoundedIntText(value=4,  min=1, max=5, step=1, description='Pain',disabled=False)\n",
        "Anxiety = widgets.BoundedIntText(value=1, min=1, max=5, step=1, description='Anxiety',disabled=False)\n",
        "\n",
        "@interact(Mobility=Mobility,SelfCare=SelfCare,Activity=Activity,Pain=Pain,Anxiety =Anxiety,language = language)\n",
        "\n",
        "\n",
        "def Questions(Mobility,SelfCare,Activity,Pain,Anxiety,language):\n",
        "\n",
        "    \n",
        "    if Mobility == 0 or Mobility == 1 or Mobility == 2 :           \n",
        "            mob_questions = mobility\n",
        "    if Mobility == 3 :\n",
        "            mob_questions = mobility_3    \n",
        "    if Mobility == 4 :\n",
        "            mob_questions = mobility_4           \n",
        "    if Mobility == 5 :\n",
        "            mob_questions = mobility_5\n",
        "                     \n",
        "            \n",
        "    if SelfCare == 0 or SelfCare == 1 or SelfCare == 2 :           \n",
        "            sf_questions = selfCare\n",
        "    if SelfCare == 3 :\n",
        "            sf_questions = selfCare_3 \n",
        "    if SelfCare == 4 :\n",
        "            sf_questions = selfCare_4          \n",
        "    if SelfCare == 5 :\n",
        "            sf_questions = selfCare_4     \n",
        "            \n",
        "    if Activity == 0 or Activity == 1 or Activity == 2 :           \n",
        "            act_questions = activity\n",
        "    if Activity == 3 :\n",
        "            act_questions = activity_3\n",
        "    if Activity == 4 :\n",
        "            act_questions = activity_4          \n",
        "    if Activity == 5 :\n",
        "            act_questions = activity_5      \n",
        "            \n",
        "            \n",
        "            \n",
        "    if Pain == 0 or Pain == 1 or Pain == 2 :           \n",
        "            pn_questions = pain\n",
        "    if Pain == 3 :\n",
        "            pn_questions = pain_3\n",
        "    if Pain == 4 :\n",
        "            pn_questions = pain_4        \n",
        "    if Pain == 5 :\n",
        "            pn_questions = pain_5  \n",
        "            \n",
        "    if Anxiety == 0 or Anxiety == 1 or Anxiety == 2 :           \n",
        "            ad_questions = anxiety\n",
        "    if Anxiety== 3 :\n",
        "            ad_questions = anxiety_3\n",
        "    if Anxiety == 4 :\n",
        "            ad_questions = anxiety_4          \n",
        "    if Anxiety == 5 :\n",
        "            ad_questions = anxiety_5    \n",
        "            \n",
        "            \n",
        "            \n",
        "    mob_questions = convert(language,mob_questions)\n",
        "    sf_questions = convert(language,sf_questions)\n",
        "    act_questions = convert(language,act_questions)\n",
        "    pn_questions = convert(language,pn_questions)\n",
        "    ad_questions = convert(language,ad_questions)\n",
        "    \n",
        "    #print(\"n\\ \")\n",
        "\n",
        "    return mob_questions,' ', sf_questions,' ', act_questions,' ', pn_questions,' ', ad_questions\n",
        "    \n"
      ],
      "id": "informational-jacket",
      "execution_count": null,
      "outputs": [
        {
          "output_type": "display_data",
          "data": {
            "application/vnd.jupyter.widget-view+json": {
              "model_id": "d0b62923f87b4db38b0235f1143695e5",
              "version_major": 2,
              "version_minor": 0
            },
            "text/plain": [
              "interactive(children=(BoundedIntText(value=3, description='Mobility', max=5, min=1), BoundedIntText(value=5, d…"
            ]
          },
          "metadata": {
            "tags": []
          }
        }
      ]
    },
    {
      "cell_type": "code",
      "metadata": {
        "id": "first-mouse"
      },
      "source": [
        ""
      ],
      "id": "first-mouse",
      "execution_count": null,
      "outputs": []
    },
    {
      "cell_type": "code",
      "metadata": {
        "id": "starting-relevance"
      },
      "source": [
        ""
      ],
      "id": "starting-relevance",
      "execution_count": null,
      "outputs": []
    },
    {
      "cell_type": "code",
      "metadata": {
        "id": "checked-population"
      },
      "source": [
        "eq555d = df[[ 'WEIGHT', 'GENDER', 'AGE','AGER','E1', 'E2', 'E3', 'E4', 'E5', 'E6','MARITAL','INC4']].copy()\n",
        "eq555d.columns = ['WEIGHT', 'GENDER', 'AGE','AGE GROUP' ,'MOBILITY', 'SELF CARE', 'USUAL ACTIVITY', 'PAIN', 'ANXIETY', 'HEALTH SCALE','MARITAL','INCOME']\n",
        "#eq5d.head(3)"
      ],
      "id": "checked-population",
      "execution_count": null,
      "outputs": []
    },
    {
      "cell_type": "code",
      "metadata": {
        "id": "thousand-hostel"
      },
      "source": [
        "def total(Label):\n",
        "    if Label in eq:\n",
        "        x = eq.drop([Label], axis = 1)\n",
        "    else :\n",
        "        x = eq\n",
        "    eq5d_new = eq555d.copy()\n",
        "    #eq5d_new = eq5d_new.drop(['GENDER','AGE'], axis = 1)\n",
        "    eq5d_new['GENERAL HEALTH'] = x.sum(axis=1)\n",
        "    #eq5d_new['GENERAL HEALTH'] = eq5d_new['GENERAL HEALTH']/20   \n",
        "    return eq5d_new\n",
        "\n",
        "\n",
        "\n",
        "def plot_confusion_matrix(cm, classes,\n",
        "                          normalize=False,\n",
        "                          title='Confusion matrix',\n",
        "                          cmap=plt.cm.Blues):\n",
        "\n",
        "    \"\"\"\n",
        "    This function prints and plots the confusion matrix.`.\n",
        "    \"\"\"\n",
        "\n",
        "    #style.use('default')\n",
        "\n",
        "    plt.imshow(cm, interpolation='nearest', cmap=cmap)\n",
        "    plt.title(title)\n",
        "    plt.colorbar()\n",
        "    tick_marks = np.arange(len(classes))\n",
        "    plt.xticks(tick_marks, classes, rotation=45)\n",
        "    plt.yticks(tick_marks, classes)\n",
        "\n",
        "    fmt = '.2f' if normalize else 'd'\n",
        "    thresh = cm.max() / 2.\n",
        "    for i, j in itertools.product(range(cm.shape[0]), range(cm.shape[1])):\n",
        "        plt.text(j, i, format(cm[i, j], fmt),\n",
        "                 horizontalalignment=\"center\",\n",
        "                 color=\"white\" if cm[i, j] > thresh else \"black\")\n",
        "\n",
        "    plt.ylabel('True label')\n",
        "    plt.xlabel('Predicted label')\n",
        "    plt.tight_layout()"
      ],
      "id": "thousand-hostel",
      "execution_count": null,
      "outputs": []
    },
    {
      "cell_type": "code",
      "metadata": {
        "colab": {
          "referenced_widgets": [
            "f4e9037532834933bb23f7d2adcb9bb5"
          ]
        },
        "id": "respected-diameter",
        "outputId": "7069807c-fe3b-4ed7-8fc2-06a33396eafc"
      },
      "source": [
        "\n",
        "Label= widgets.Dropdown(options=eq5d.columns, value='ANXIETY')\n",
        "\n",
        "@interact(Label = Label)\n",
        "def random_forrest(Label):\n",
        "    \n",
        "    #categorical_cols = [ 'GENDER', 'AGE GROUP', 'MOBILITY', 'SELF CARE','USUAL ACTIVITY', 'PAIN', 'ANXIETY'] \n",
        "    #categorical_cols = categorical_cols.remove(Label)\n",
        "    #le = LabelEncoder()\n",
        "    \n",
        "    tot = total(Label)\n",
        "    #df = pd.get_dummies(df, columns = categorical_cols)\n",
        "    x = pd.DataFrame(tot.drop([Label], axis = 1))\n",
        "    #print(x)\n",
        "    y = tot[Label]\n",
        "    \n",
        "\n",
        "    #x[categorical_cols] = x[categorical_cols].apply(lambda col: le.fit_transform(col))\n",
        "    #x,y = SMOTE().fit_resample(x,y.values.ravel())\n",
        "    x_train, x_test, y_train, y_test = train_test_split(x, y, test_size=0.5, random_state=42,shuffle = True)\n",
        "    x_sam,y_sam = SMOTE().fit_resample(x_train,y_train.values.ravel())\n",
        "\n",
        "    random_forest = RandomForestClassifier(n_estimators=100, n_jobs=-1)\n",
        "\n",
        "    clf = random_forest.fit(x_sam,y_sam)\n",
        "\n",
        "    y_pred = clf.predict(x_test)\n",
        "\n",
        "\n",
        "\n",
        "    #print (\"Training result========\")\n",
        "    #print(clf.score(x_sam,y_sam)) #score\n",
        "    print (\"cross Testing result========\")\n",
        "    scores = cross_val_score(clf, x_test, y_test, cv=5)\n",
        "    print (scores)\n",
        "    print (\"________________________\")\n",
        "    print (\"Testing result mean ========\")\n",
        "    print (scores.mean())\n",
        "    print (\"________________________\")\n",
        "\n",
        "    cnf_matrix = confusion_matrix(y_test,y_pred)\n",
        "    print (\"Printing confusion Matrix ========\")\n",
        "    plot_confusion_matrix(cnf_matrix,classes=[1,2,3,4,5])\n",
        "    print (\"________________________\")\n",
        "    \n",
        "    importances = clf.feature_importances_\n",
        "    indices = np.argsort(importances)[::-1]\n",
        "    features = x.columns\n",
        "    print (\"Feature importances on \", Label)\n",
        "    for f in range(8):\n",
        "        print(\" %s (%f)\" % ( features[indices[f]] ,importances[indices[f]]))\n",
        "        \n",
        "        \n",
        "        \n",
        "    feat_importances = pd.Series(random_forest.feature_importances_, index=x.columns)\n",
        "\n",
        "    style.use('fivethirtyeight')\n",
        "    fig, ax = plt.subplots(figsize=(20, 15))\n",
        "\n",
        "    ax.barh(x.columns,feat_importances, height=1, facecolor='grey', alpha=0.8, edgecolor='k')\n",
        "    ax.set_xlabel('Importance score')\n",
        "    ax.set_title(' Feature importance ')\n",
        "\n",
        "    plt.gca().invert_yaxis()\n",
        "\n",
        "    fig.tight_layout()    \n"
      ],
      "id": "respected-diameter",
      "execution_count": null,
      "outputs": [
        {
          "output_type": "display_data",
          "data": {
            "application/vnd.jupyter.widget-view+json": {
              "model_id": "f4e9037532834933bb23f7d2adcb9bb5",
              "version_major": 2,
              "version_minor": 0
            },
            "text/plain": [
              "interactive(children=(Dropdown(description='Label', index=8, options=('WEIGHT', 'GENDER', 'AGE', 'AGE GROUP', …"
            ]
          },
          "metadata": {
            "tags": []
          }
        }
      ]
    }
  ]
}